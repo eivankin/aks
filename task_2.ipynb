{
  "nbformat": 4,
  "nbformat_minor": 0,
  "metadata": {
    "colab": {
      "name": "лесной флекс.ipynb",
      "provenance": [],
      "collapsed_sections": []
    },
    "kernelspec": {
      "name": "python3",
      "display_name": "Python 3"
    }
  },
  "cells": [
    {
      "cell_type": "code",
      "metadata": {
        "id": "UMSOslK5gTRD",
        "colab_type": "code",
        "colab": {}
      },
      "source": [
        "from google.colab import drive\n",
        "drive.mount('/content/drive')\n",
        "from google.colab import auth\n",
        "auth.authenticate_user()\n",
        "import ee\n",
        "ee.Authenticate()\n",
        "ee.Initialize()"
      ],
      "execution_count": 0,
      "outputs": []
    },
    {
      "cell_type": "code",
      "metadata": {
        "id": "M6FEgG5wiAR1",
        "colab_type": "code",
        "colab": {}
      },
      "source": [
        "def add_ndvi(img):\n",
        "  nir = img.select('B8')\n",
        "  red = img.select('B4')\n",
        "  ndvi = nir.subtract(red).divide(nir.add(red)).rename('NDVI')\n",
        "  return img.addBands(ndvi)\n",
        "\n",
        "def select_bands(img):\n",
        "  return img.expression('b(\"B6\", \"B5\", \"B4\")')\n",
        "\n",
        "def filterCloudSentinel2(img):\n",
        "  #\n",
        "  #Bitmask for QA60\n",
        "    #Bit 10: Opaque clouds\n",
        "        #0: No opaque clouds\n",
        "        #1: Opaque clouds present\n",
        "    #Bit 11: Cirrus clouds\n",
        "        #0: No cirrus clouds\n",
        "        #1: Cirrus clouds present\n",
        "  #\n",
        "  quality = img.select('QA60').int()\n",
        "  cloudBit = ee.Number(1024)    # ee.Number(2).pow(10);\n",
        "  cirrusBit = ee.Number(2048)  # ee.Number(2).pow(11)\n",
        "  \n",
        "  cloudFree = quality.bitwiseAnd(cloudBit).eq(0)\n",
        "  cirrusFree = quality.bitwiseAnd(cirrusBit).eq(0)\n",
        "  clear = cloudFree.bitwiseAnd(cirrusFree)\n",
        "  \n",
        "  return img.updateMask(clear)"
      ],
      "execution_count": 0,
      "outputs": []
    },
    {
      "cell_type": "code",
      "metadata": {
        "id": "MmOD6a49oeXG",
        "colab_type": "code",
        "colab": {}
      },
      "source": [
        "roi = ee.FeatureCollection('users/baskinrobbinsman/IFL').first().geometry()"
      ],
      "execution_count": 0,
      "outputs": []
    },
    {
      "cell_type": "code",
      "metadata": {
        "id": "SoPM0-9KvGea",
        "colab_type": "code",
        "colab": {}
      },
      "source": [
        "Sent2 = ee.ImageCollection('COPERNICUS/S2').filterBounds(roi).filterDate('2018-6-01','2018-9-30').map(filterCloudSentinel2)\n",
        "medS2 = Sent2.median().clip(roi).select([\"B12\",\"B8\",\"B4\"])\n",
        "\n",
        "Sent2020 = ee.ImageCollection('COPERNICUS/S2').filterBounds(roi).filterDate('2019-6-01','2019-9-30').map(filterCloudSentinel2)\n",
        "medS2020 = Sent2020.median().clip(roi).select([\"B12\",\"B8\",\"B4\"])"
      ],
      "execution_count": 0,
      "outputs": []
    },
    {
      "cell_type": "code",
      "metadata": {
        "id": "lHeDKPh_wJZG",
        "colab_type": "code",
        "colab": {}
      },
      "source": [
        "S2_diff = medS2.subtract(medS2020)\n",
        "S2_diff = S2_diff.divide(S2_diff.reduce(ee.Reducer.max()))"
      ],
      "execution_count": 0,
      "outputs": []
    },
    {
      "cell_type": "code",
      "metadata": {
        "id": "Kpf-ONBUs_qp",
        "colab_type": "code",
        "colab": {}
      },
      "source": [
        "def create_evi(img):\n",
        "  evi = img.expression(\n",
        "      '2.5 * ((NIR - RED) / (NIR + 6 * RED - 7.5 * BLUE + 1))', {\n",
        "        'NIR': img.select('B8'),\n",
        "        'RED': img.select('B4'),\n",
        "        'BLUE': img.select('B2')}).rename('EVI')\n",
        "  return evi\n",
        "evi_1 = create_evi(medS2)\n",
        "evi_2 = create_evi(medS2020)\n",
        "evi_diff = evi_1.subtract(evi_2)\n",
        "ndvi_1 = add_ndvi(medS2).select(\"NDVI\")\n",
        "ndvi_2 = add_ndvi(medS2020).select(\"NDVI\")\n",
        "ndvi_diff = ndvi_1.subtract(ndvi_2)"
      ],
      "execution_count": 0,
      "outputs": []
    },
    {
      "cell_type": "markdown",
      "metadata": {
        "id": "UZ63N687ysPZ",
        "colab_type": "text"
      },
      "source": [
        "Кластеризация (не пригодилась)"
      ]
    },
    {
      "cell_type": "code",
      "metadata": {
        "id": "qM5IPy8klr9z",
        "colab_type": "code",
        "colab": {}
      },
      "source": [
        "train_2018 = medS2.select([\"B12\",\"B8\",\"B4\"]).sample(**{\n",
        "  'region': roi,\n",
        "  'scale': 20,\n",
        "  'numPixels': 5000})\n",
        "\n",
        "clusterer = ee.Clusterer.wekaKMeans(10).train(train_2018)\n",
        "res_2018 = medS2.select([\"B12\",\"B8\",\"B4\"]).cluster(clusterer)\n",
        "res_2020 = medS2020.select([\"B12\",\"B8\",\"B4\"]).cluster(clusterer)\n",
        "task = ee.batch.Export.image.toDrive(res_2018, folder='AKS/clusters')\n",
        "task.start()"
      ],
      "execution_count": 0,
      "outputs": []
    },
    {
      "cell_type": "code",
      "metadata": {
        "id": "2KY5jvRxvvSK",
        "colab_type": "code",
        "colab": {}
      },
      "source": [
        "import folium\n",
        "mapid = res_2018.randomVisualizer().getMapId()\n",
        "mymap = folium.Map(location=[*roi.centroid().getInfo()['coordinates'][::-1]])\n",
        "folium.TileLayer(\n",
        "    tiles=mapid['tile_fetcher'].url_format,\n",
        "    attr='Map Data &copy; <a href=\"https://earthengine.google.com/\">Google Earth Engine</a>',\n",
        "    overlay=True,\n",
        "    name='clusters 2018',\n",
        "  ).add_to(mymap)\n",
        "mapid = res_2020.randomVisualizer().getMapId()\n",
        "folium.TileLayer(\n",
        "    tiles=mapid['tile_fetcher'].url_format,\n",
        "    attr='Map Data &copy; <a href=\"https://earthengine.google.com/\">Google Earth Engine</a>',\n",
        "    overlay=True,\n",
        "    name='clusters 2020',\n",
        "  ).add_to(mymap)\n",
        "mymap.add_child(folium.LayerControl())\n",
        "mymap"
      ],
      "execution_count": 0,
      "outputs": []
    },
    {
      "cell_type": "markdown",
      "metadata": {
        "id": "_273kaaAza16",
        "colab_type": "text"
      },
      "source": [
        "Эсперименты с вегетативными индексами"
      ]
    },
    {
      "cell_type": "code",
      "metadata": {
        "id": "m6ZuSFol1JgN",
        "colab_type": "code",
        "colab": {}
      },
      "source": [
        "evi_diff_0 = evi_1.expression('(OLD > 0) & (NEW <= 0)', {'OLD': evi_1, 'NEW': evi_2})\n",
        "evi_diff_1 = evi_1.expression('(OLD > 0.3) & (NEW <= 0)', {'OLD': evi_1, 'NEW': evi_2})\n",
        "diff_diff = evi_diff_0.subtract(evi_diff_1)\n",
        "diff_m = diff_diff.eq(ee.Number(1))\n",
        "diff_d = diff_m.updateMask(diff_m)\n",
        "ndvi_diff = ndvi_1.expression('(OLD > 0.5) & (NEW <= 0.5)', {'OLD': ndvi_1, 'NEW': ndvi_2}) # слишком большой порог\n",
        "target = evi_diff_1.eq(ee.Number(1))\n",
        "diff = target.updateMask(target)\n",
        "nd = ndvi_diff.eq(ee.Number(1))\n",
        "ndvi_d = nd.updateMask(nd)\n",
        "B4_diff = S2_diff.select(\"B8\").gte(ee.Number(2.5))\n",
        "B4_d = B4_diff.updateMask(B4_diff)"
      ],
      "execution_count": 0,
      "outputs": []
    },
    {
      "cell_type": "code",
      "metadata": {
        "id": "gqpKGTyBw7S-",
        "colab_type": "code",
        "outputId": "bfb0c346-c858-4294-8c67-358e94baacf2",
        "colab": {
          "base_uri": "https://localhost:8080/",
          "height": 904
        }
      },
      "source": [
        "# clusters_diff = res_2018.expression('OLD != NEW', {'OLD': res_2018, 'NEW': res_2020})\n",
        "import folium\n",
        "mapid = medS2020.getMapId({'bands': ['B12', 'B8', 'B4'], 'min': 500, 'max': 5000})\n",
        "mymap = folium.Map(location=[*roi.centroid().getInfo()['coordinates'][::-1]])\n",
        "folium.TileLayer(\n",
        "    tiles=mapid['tile_fetcher'].url_format,\n",
        "    attr='Map Data &copy; <a href=\"https://earthengine.google.com/\">Google Earth Engine</a>',\n",
        "    overlay=True,\n",
        "    name='diff',\n",
        "  ).add_to(mymap)\n",
        "\n",
        "mapid = ndvi_d.getMapId({'palette': ['red']})\n",
        "folium.TileLayer(\n",
        "    tiles=mapid['tile_fetcher'].url_format,\n",
        "    attr='Map Data &copy; <a href=\"https://earthengine.google.com/\">Google Earth Engine</a>',\n",
        "    overlay=True,\n",
        "    name='diff B4',\n",
        "  ).add_to(mymap)\n",
        "mymap.add_child(folium.LayerControl())\n",
        "mymap"
      ],
      "execution_count": 0,
      "outputs": [
        {
          "output_type": "execute_result",
          "data": {
            "text/html": [
              "<div style=\"width:100%;\"><div style=\"position:relative;width:100%;height:0;padding-bottom:60%;\"><iframe src=\"about:blank\" style=\"position:absolute;width:100%;height:100%;left:0;top:0;border:none !important;\" data-html=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 onload=\"this.contentDocument.open();this.contentDocument.write(atob(this.getAttribute('data-html')));this.contentDocument.close();\" allowfullscreen webkitallowfullscreen mozallowfullscreen></iframe></div></div>"
            ],
            "text/plain": [
              "<folium.folium.Map at 0x7f4fbba71828>"
            ]
          },
          "metadata": {
            "tags": []
          },
          "execution_count": 55
        }
      ]
    },
    {
      "cell_type": "code",
      "metadata": {
        "id": "FuGfLOll3Dtu",
        "colab_type": "code",
        "colab": {}
      },
      "source": [
        "polygons = ndvi_d.reduceToVectors(**{\n",
        "  'geometry': roi,\n",
        "  'crs': Sent2.first().select('B4').projection(),\n",
        "  'scale': 20,\n",
        "  'geometryType': 'polygon',\n",
        "  'eightConnected': False,\n",
        "  'labelProperty': 'raster_value',\n",
        "  'reducer': ee.Reducer.countEvery(),\n",
        "  'maxPixels': 100000000})"
      ],
      "execution_count": 0,
      "outputs": []
    },
    {
      "cell_type": "code",
      "metadata": {
        "id": "7lg-9K93Vrza",
        "colab_type": "code",
        "outputId": "fcd4b663-b62e-4f1a-d0d3-f052a6ad9f5d",
        "colab": {
          "base_uri": "https://localhost:8080/",
          "height": 763
        }
      },
      "source": [
        "mapid = ee.FeatureCollection('users/baskinrobbinsman/evi_diff').getMapId()\n",
        "mymap = folium.Map(location=[*roi.centroid().getInfo()['coordinates'][::-1]])\n",
        "folium.TileLayer(\n",
        "    tiles=mapid['tile_fetcher'].url_format,\n",
        "    attr='Map Data &copy; <a href=\"https://earthengine.google.com/\">Google Earth Engine</a>',\n",
        "    overlay=True,\n",
        "    name='diff_poly',\n",
        "  ).add_to(mymap)\n",
        "\n",
        "mapid = ee.Feature(ee.FeatureCollection('users/baskinrobbinsman/IFL').first()).getMapId()\n",
        "folium.TileLayer(\n",
        "    tiles=mapid['tile_fetcher'].url_format,\n",
        "    attr='Map Data &copy; <a href=\"https://earthengine.google.com/\">Google Earth Engine</a>',\n",
        "    overlay=True,\n",
        "    name='bounds',\n",
        "  ).add_to(mymap)\n",
        "\n",
        "mapid = diff.getMapId({'palette': ['red']})\n",
        "folium.TileLayer(\n",
        "    tiles=mapid['tile_fetcher'].url_format,\n",
        "    attr='Map Data &copy; <a href=\"https://earthengine.google.com/\">Google Earth Engine</a>',\n",
        "    overlay=True,\n",
        "    name='diff',\n",
        "  ).add_to(mymap)\n",
        "\n",
        "mymap.add_child(folium.LayerControl())\n",
        "mymap"
      ],
      "execution_count": 0,
      "outputs": [
        {
          "output_type": "execute_result",
          "data": {
            "text/html": [
              "<div style=\"width:100%;\"><div style=\"position:relative;width:100%;height:0;padding-bottom:60%;\"><iframe src=\"about:blank\" style=\"position:absolute;width:100%;height:100%;left:0;top:0;border:none !important;\" data-html=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 onload=\"this.contentDocument.open();this.contentDocument.write(atob(this.getAttribute('data-html')));this.contentDocument.close();\" allowfullscreen webkitallowfullscreen mozallowfullscreen></iframe></div></div>"
            ],
            "text/plain": [
              "<folium.folium.Map at 0x7fbc106f6f98>"
            ]
          },
          "metadata": {
            "tags": []
          },
          "execution_count": 50
        }
      ]
    },
    {
      "cell_type": "code",
      "metadata": {
        "id": "Oc1AwNdt4q4W",
        "colab_type": "code",
        "colab": {}
      },
      "source": [
        "task = ee.batch.Export.table.toDrive(polygons, folder='ndvi_diff', fileFormat='shp', fileNamePrefix='ndvi')\n",
        "task.start()"
      ],
      "execution_count": 0,
      "outputs": []
    },
    {
      "cell_type": "code",
      "metadata": {
        "id": "AT4WUY2jknHG",
        "colab_type": "code",
        "colab": {}
      },
      "source": [
        "task = ee.batch.Export.image.toDrive(medS2, scale=20,\n",
        "                                     folder='composites', description='comp1', \n",
        "                                     fileNamePrefix='S2_2018', maxPixels=10000000000000)\n",
        "task.start()"
      ],
      "execution_count": 0,
      "outputs": []
    },
    {
      "cell_type": "code",
      "metadata": {
        "id": "jUltE6aSmPKc",
        "colab_type": "code",
        "colab": {}
      },
      "source": [
        "task = ee.batch.Export.image.toDrive(medS2020, scale=20,\n",
        "                                     folder='composites', description='comp2', \n",
        "                                     fileNamePrefix='S2_2020', maxPixels=10000000000000)\n",
        "task.start()"
      ],
      "execution_count": 0,
      "outputs": []
    },
    {
      "cell_type": "markdown",
      "metadata": {
        "id": "v4van5PYy3Hw",
        "colab_type": "text"
      },
      "source": [
        "Деление композитов на мелкие кусочки ради нормальной отрисовки в QGIS"
      ]
    },
    {
      "cell_type": "code",
      "metadata": {
        "id": "20ldhhydosoH",
        "colab_type": "code",
        "colab": {}
      },
      "source": [
        "import os, gdal\n",
        " \n",
        "in_path = '/content/drive/My Drive/composites/'\n",
        "input_names = os.listdir(in_path)\n",
        " \n",
        "out_path = '/content/drive/My Drive/tiles/'\n",
        "output_filename = 'tile_'\n",
        "\n",
        "tile_size_x = 2000\n",
        "tile_size_y = 2000"
      ],
      "execution_count": 0,
      "outputs": []
    },
    {
      "cell_type": "code",
      "metadata": {
        "id": "DlmgKog904kg",
        "colab_type": "code",
        "colab": {}
      },
      "source": [
        "os.mkdir(out_path)"
      ],
      "execution_count": 0,
      "outputs": []
    },
    {
      "cell_type": "code",
      "metadata": {
        "id": "2j49gJjeudeb",
        "colab_type": "code",
        "outputId": "fb2273f9-30ef-4359-f04a-ee6e4f532c78",
        "colab": {
          "base_uri": "https://localhost:8080/",
          "height": 1000
        }
      },
      "source": [
        "#print(band.XSize, band.YSize)\n",
        "os.listdir(out_path)"
      ],
      "execution_count": 0,
      "outputs": [
        {
          "output_type": "execute_result",
          "data": {
            "text/plain": [
              "['S2_2018_1_0_8000.tif',\n",
              " 'S2_2018_1_0_10000.tif',\n",
              " 'S2_2018_2_0_0.tif',\n",
              " 'S2_2018_2_0_2000.tif',\n",
              " 'S2_2018_2_0_4000.tif',\n",
              " 'S2_2018_2_2000_4000.tif',\n",
              " 'S2_2018_2_2000_6000.tif',\n",
              " 'S2_2018_2_2000_8000.tif',\n",
              " 'S2_2018_2_2000_10000.tif',\n",
              " 'S2_2018_2_4000_0.tif',\n",
              " 'S2_2018_2_8000_8000.tif',\n",
              " 'S2_2018_2_10000_0.tif',\n",
              " 'S2_2018_2_10000_4000.tif',\n",
              " 'S2_2018_2_10000_6000.tif',\n",
              " 'S2_2018_2_10000_8000.tif',\n",
              " 'S2_2020_4_10000_10000.tif',\n",
              " 'S2_2018_1_0_0.tif',\n",
              " 'S2_2018_1_0_2000.tif',\n",
              " 'S2_2018_1_0_4000.tif',\n",
              " 'S2_2018_1_0_6000.tif',\n",
              " 'S2_2018_2_0_6000.tif',\n",
              " 'S2_2018_2_0_8000.tif',\n",
              " 'S2_2018_2_0_10000.tif',\n",
              " 'S2_2018_2_2000_0.tif',\n",
              " 'S2_2018_2_2000_2000.tif',\n",
              " 'S2_2018_2_4000_2000.tif',\n",
              " 'S2_2018_2_4000_4000.tif',\n",
              " 'S2_2018_2_4000_6000.tif',\n",
              " 'S2_2018_2_4000_8000.tif',\n",
              " 'S2_2018_2_4000_10000.tif',\n",
              " 'S2_2018_2_6000_0.tif',\n",
              " 'S2_2018_2_6000_2000.tif',\n",
              " 'S2_2018_2_6000_4000.tif',\n",
              " 'S2_2018_2_6000_6000.tif',\n",
              " 'S2_2018_2_6000_8000.tif',\n",
              " 'S2_2018_2_6000_10000.tif',\n",
              " 'S2_2018_2_8000_0.tif',\n",
              " 'S2_2018_2_8000_2000.tif',\n",
              " 'S2_2018_2_8000_4000.tif',\n",
              " 'S2_2018_2_8000_6000.tif',\n",
              " 'S2_2018_2_8000_10000.tif',\n",
              " 'S2_2018_2_10000_2000.tif',\n",
              " 'S2_2018_2_10000_10000.tif',\n",
              " 'S2_2018_2_12000_0.tif',\n",
              " 'S2_2018_2_12000_2000.tif',\n",
              " 'S2_2018_2_12000_4000.tif',\n",
              " 'S2_2018_2_12000_6000.tif',\n",
              " 'S2_2018_2_12000_8000.tif',\n",
              " 'S2_2018_2_12000_10000.tif',\n",
              " 'S2_2020_1_0_0.tif',\n",
              " 'S2_2020_1_0_2000.tif',\n",
              " 'S2_2020_1_0_4000.tif',\n",
              " 'S2_2020_1_0_6000.tif',\n",
              " 'S2_2020_1_0_8000.tif',\n",
              " 'S2_2020_1_0_10000.tif',\n",
              " 'S2_2020_2_0_0.tif',\n",
              " 'S2_2020_2_0_2000.tif',\n",
              " 'S2_2020_2_0_4000.tif',\n",
              " 'S2_2020_2_0_6000.tif',\n",
              " 'S2_2020_2_0_8000.tif',\n",
              " 'S2_2020_2_0_10000.tif',\n",
              " 'S2_2020_2_2000_0.tif',\n",
              " 'S2_2020_2_2000_2000.tif',\n",
              " 'S2_2020_2_2000_4000.tif',\n",
              " 'S2_2020_2_2000_6000.tif',\n",
              " 'S2_2020_2_2000_8000.tif',\n",
              " 'S2_2020_2_2000_10000.tif',\n",
              " 'S2_2020_2_4000_0.tif',\n",
              " 'S2_2020_2_4000_2000.tif',\n",
              " 'S2_2020_2_4000_4000.tif',\n",
              " 'S2_2020_2_4000_6000.tif',\n",
              " 'S2_2020_2_4000_8000.tif',\n",
              " 'S2_2020_2_4000_10000.tif',\n",
              " 'S2_2020_2_6000_0.tif',\n",
              " 'S2_2020_2_6000_2000.tif',\n",
              " 'S2_2020_2_6000_4000.tif',\n",
              " 'S2_2020_2_6000_6000.tif',\n",
              " 'S2_2020_2_6000_8000.tif',\n",
              " 'S2_2020_2_6000_10000.tif',\n",
              " 'S2_2020_2_8000_0.tif',\n",
              " 'S2_2020_2_8000_2000.tif',\n",
              " 'S2_2020_2_8000_4000.tif',\n",
              " 'S2_2020_2_8000_6000.tif',\n",
              " 'S2_2020_2_8000_8000.tif',\n",
              " 'S2_2020_2_8000_10000.tif',\n",
              " 'S2_2020_2_10000_0.tif',\n",
              " 'S2_2020_2_10000_2000.tif',\n",
              " 'S2_2020_2_10000_4000.tif',\n",
              " 'S2_2020_2_10000_6000.tif',\n",
              " 'S2_2020_2_10000_8000.tif',\n",
              " 'S2_2020_2_10000_10000.tif',\n",
              " 'S2_2020_2_12000_0.tif',\n",
              " 'S2_2020_2_12000_2000.tif',\n",
              " 'S2_2020_2_12000_4000.tif',\n",
              " 'S2_2020_2_12000_6000.tif',\n",
              " 'S2_2020_2_12000_8000.tif',\n",
              " 'S2_2020_2_12000_10000.tif']"
            ]
          },
          "metadata": {
            "tags": []
          },
          "execution_count": 49
        }
      ]
    },
    {
      "cell_type": "code",
      "metadata": {
        "id": "ggOHwY3buVMG",
        "colab_type": "code",
        "outputId": "676b490b-3218-418e-c6a1-044eb1d552da",
        "colab": {
          "base_uri": "https://localhost:8080/",
          "height": 34
        }
      },
      "source": [
        "from tqdm import tqdm\n",
        "\n",
        "for k, name in tqdm(enumerate(input_names)):\n",
        "  ds = gdal.Open(in_path + name)\n",
        "  band = ds.GetRasterBand(1)\n",
        "\n",
        "  xsize = band.XSize\n",
        "  ysize = band.YSize\n",
        "  \n",
        "  for i in range(0, xsize, tile_size_x):\n",
        "      for j in range(0, ysize, tile_size_y):\n",
        "          com_string = f'gdal_translate -of GTIFF -srcwin {i}, {j}, {tile_size_x}, {tile_size_y} \"{in_path + name}\" \"{out_path + name.split(\"-\")[0]}_{k % 2 + 1}_{i}_{j}.tif\"'\n",
        "          os.system(com_string)\n",
        "          #print(com_string)"
      ],
      "execution_count": 0,
      "outputs": [
        {
          "output_type": "stream",
          "text": [
            "4it [02:15, 33.81s/it]\n"
          ],
          "name": "stderr"
        }
      ]
    },
    {
      "cell_type": "markdown",
      "metadata": {
        "id": "tcNJb1ohzIH5",
        "colab_type": "text"
      },
      "source": [
        "Переименовывание файлов для сокомандников"
      ]
    },
    {
      "cell_type": "code",
      "metadata": {
        "id": "NIIAbV0GMqia",
        "colab_type": "code",
        "colab": {}
      },
      "source": [
        "for fname in os.listdir(out_path):\n",
        "  os.rename(out_path + fname, out_path + fname.replace('ГРИША_', '').replace('ПОЛИНА_', '').replace('ЛИЗА_', ''))"
      ],
      "execution_count": 0,
      "outputs": []
    },
    {
      "cell_type": "code",
      "metadata": {
        "id": "77qXGtOxGV0N",
        "colab_type": "code",
        "colab": {}
      },
      "source": [
        "files = list(filter(lambda x: x.startswith('S2_2018'), os.listdir(out_path)))\n",
        "for i, who in enumerate(['ГРИША_', 'ПОЛИНА_', 'ЛИЗА_']):\n",
        "  for fname in files[i * 16: (i + 1) * 16]:\n",
        "    os.rename(out_path + fname, out_path + who + fname)\n",
        "    nf = 'S2_2020_' + '_'.join(fname.split('_')[2:])\n",
        "    os.rename(out_path + nf, out_path + who + nf)\n",
        "os.listdir(out_path)"
      ],
      "execution_count": 0,
      "outputs": []
    }
  ]
}